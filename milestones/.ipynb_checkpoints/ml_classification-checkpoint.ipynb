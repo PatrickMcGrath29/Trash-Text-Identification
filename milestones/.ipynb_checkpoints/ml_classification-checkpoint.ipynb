{
 "cells": [
  {
   "cell_type": "code",
   "execution_count": 2,
   "metadata": {},
   "outputs": [],
   "source": [
    "import numpy as np\n",
    "import pandas as pd\n",
    "from sklearn import metrics\n",
    "from sklearn.pipeline import Pipeline\n",
    "from sklearn.model_selection import train_test_split\n",
    "from sklearn.naive_bayes import MultinomialNB\n",
    "from sklearn.feature_extraction.text import TfidfTransformer, CountVectorizer\n",
    "from sklearn.linear_model import PassiveAggressiveClassifier, SGDClassifier\n"
   ]
  },
  {
   "cell_type": "markdown",
   "metadata": {},
   "source": [
    "## Clean and Vectorize Data"
   ]
  },
  {
   "cell_type": "code",
   "execution_count": 3,
   "metadata": {},
   "outputs": [],
   "source": [
    "# Clean the data Whoop whoop\n",
    "df = pd.read_csv('../data/train.csv')\n",
    "df.drop('id', inplace=True, axis=1)\n",
    "df.replace('', np.nan, inplace=True)\n",
    "df.dropna(inplace=True)\n",
    "\n",
    "df['label'].replace(0, 'reliable', inplace=True)\n",
    "df['label'].replace(1, 'unreliable', inplace=True)\n",
    "\n",
    "train, test = train_test_split(df, test_size=0.5)\n",
    "x_train = train['text']\n",
    "y_train = train['label']\n",
    "x_test = test['text']\n",
    "y_test = test['label']\n",
    "\n",
    "base_pipeline_steps = [\n",
    "    ('vect', CountVectorizer()),\n",
    "    ('tfidf', TfidfTransformer()),\n",
    "]"
   ]
  },
  {
   "cell_type": "code",
   "execution_count": 4,
   "metadata": {},
   "outputs": [
    {
     "data": {
      "text/html": [
       "<div>\n",
       "<style scoped>\n",
       "    .dataframe tbody tr th:only-of-type {\n",
       "        vertical-align: middle;\n",
       "    }\n",
       "\n",
       "    .dataframe tbody tr th {\n",
       "        vertical-align: top;\n",
       "    }\n",
       "\n",
       "    .dataframe thead th {\n",
       "        text-align: right;\n",
       "    }\n",
       "</style>\n",
       "<table border=\"1\" class=\"dataframe\">\n",
       "  <thead>\n",
       "    <tr style=\"text-align: right;\">\n",
       "      <th></th>\n",
       "      <th>title</th>\n",
       "      <th>author</th>\n",
       "      <th>text</th>\n",
       "      <th>label</th>\n",
       "    </tr>\n",
       "  </thead>\n",
       "  <tbody>\n",
       "    <tr>\n",
       "      <th>14213</th>\n",
       "      <td>After Retirement, Finding a ‘Second Career’ as...</td>\n",
       "      <td>Emily Palmer</td>\n",
       "      <td>On an October day, Anne Davis, 76, wheeled int...</td>\n",
       "      <td>reliable</td>\n",
       "    </tr>\n",
       "    <tr>\n",
       "      <th>14096</th>\n",
       "      <td>How To Tie A Real Hangman’s Noose Knot</td>\n",
       "      <td># 1 NWO Hatr</td>\n",
       "      <td>Posted on October 27, 2016 by # 1 NWO Hatr Pub...</td>\n",
       "      <td>unreliable</td>\n",
       "    </tr>\n",
       "    <tr>\n",
       "      <th>3424</th>\n",
       "      <td>Girl Soldiers: Forgotten Casualties of War</td>\n",
       "      <td>Pat Hynes</td>\n",
       "      <td>Share This \\nAs secretary of State, Hillary Cl...</td>\n",
       "      <td>unreliable</td>\n",
       "    </tr>\n",
       "    <tr>\n",
       "      <th>2334</th>\n",
       "      <td>Protest Song Of The Week: ‘Retribution’ by Tan...</td>\n",
       "      <td>Kevin Gosztola</td>\n",
       "      <td>The colonialism of the United States rears its...</td>\n",
       "      <td>unreliable</td>\n",
       "    </tr>\n",
       "    <tr>\n",
       "      <th>17709</th>\n",
       "      <td>Melania Trump Rips Kathy Griffin: Beheading Ph...</td>\n",
       "      <td>Daniel Nussbaum</td>\n",
       "      <td>First Lady Melania Trump has responded to Kath...</td>\n",
       "      <td>reliable</td>\n",
       "    </tr>\n",
       "  </tbody>\n",
       "</table>\n",
       "</div>"
      ],
      "text/plain": [
       "                                                   title           author  \\\n",
       "14213  After Retirement, Finding a ‘Second Career’ as...     Emily Palmer   \n",
       "14096             How To Tie A Real Hangman’s Noose Knot     # 1 NWO Hatr   \n",
       "3424          Girl Soldiers: Forgotten Casualties of War        Pat Hynes   \n",
       "2334   Protest Song Of The Week: ‘Retribution’ by Tan...   Kevin Gosztola   \n",
       "17709  Melania Trump Rips Kathy Griffin: Beheading Ph...  Daniel Nussbaum   \n",
       "\n",
       "                                                    text       label  \n",
       "14213  On an October day, Anne Davis, 76, wheeled int...    reliable  \n",
       "14096  Posted on October 27, 2016 by # 1 NWO Hatr Pub...  unreliable  \n",
       "3424   Share This \\nAs secretary of State, Hillary Cl...  unreliable  \n",
       "2334   The colonialism of the United States rears its...  unreliable  \n",
       "17709  First Lady Melania Trump has responded to Kath...    reliable  "
      ]
     },
     "execution_count": 4,
     "metadata": {},
     "output_type": "execute_result"
    }
   ],
   "source": [
    "train.head()"
   ]
  },
  {
   "cell_type": "code",
   "execution_count": 5,
   "metadata": {},
   "outputs": [
    {
     "data": {
      "text/html": [
       "<div>\n",
       "<style scoped>\n",
       "    .dataframe tbody tr th:only-of-type {\n",
       "        vertical-align: middle;\n",
       "    }\n",
       "\n",
       "    .dataframe tbody tr th {\n",
       "        vertical-align: top;\n",
       "    }\n",
       "\n",
       "    .dataframe thead th {\n",
       "        text-align: right;\n",
       "    }\n",
       "</style>\n",
       "<table border=\"1\" class=\"dataframe\">\n",
       "  <thead>\n",
       "    <tr style=\"text-align: right;\">\n",
       "      <th></th>\n",
       "      <th>title</th>\n",
       "      <th>author</th>\n",
       "      <th>text</th>\n",
       "      <th>label</th>\n",
       "    </tr>\n",
       "  </thead>\n",
       "  <tbody>\n",
       "    <tr>\n",
       "      <th>20388</th>\n",
       "      <td>Soldier Headed Home from Deployment Says Unite...</td>\n",
       "      <td>Katherine Rodriguez</td>\n",
       "      <td>A National Guard soldier headed home from a de...</td>\n",
       "      <td>reliable</td>\n",
       "    </tr>\n",
       "    <tr>\n",
       "      <th>4038</th>\n",
       "      <td>Two Houston Police Officers Shot, Manhunt Unde...</td>\n",
       "      <td>Bob Price</td>\n",
       "      <td>Two Houston Police Department officers were ho...</td>\n",
       "      <td>reliable</td>\n",
       "    </tr>\n",
       "    <tr>\n",
       "      <th>4567</th>\n",
       "      <td>In Interview With Bill Maher, Obama Warns Amer...</td>\n",
       "      <td>Allison Vincent</td>\n",
       "      <td>By Allison Vincent Election 2016 , News , Poli...</td>\n",
       "      <td>unreliable</td>\n",
       "    </tr>\n",
       "    <tr>\n",
       "      <th>8483</th>\n",
       "      <td>Diplomatic Deal With Turkey Upsets Israelis Wa...</td>\n",
       "      <td>Isabel Kershner</td>\n",
       "      <td>JERUSALEM  —   As Israeli and Turkish leaders ...</td>\n",
       "      <td>reliable</td>\n",
       "    </tr>\n",
       "    <tr>\n",
       "      <th>1188</th>\n",
       "      <td>BRINK OF WAR: UK sends TANKS, DRONES and 800 S...</td>\n",
       "      <td>admin</td>\n",
       "      <td>By JOEY MILLAR \\nThe show of force comes just ...</td>\n",
       "      <td>unreliable</td>\n",
       "    </tr>\n",
       "  </tbody>\n",
       "</table>\n",
       "</div>"
      ],
      "text/plain": [
       "                                                   title               author  \\\n",
       "20388  Soldier Headed Home from Deployment Says Unite...  Katherine Rodriguez   \n",
       "4038   Two Houston Police Officers Shot, Manhunt Unde...            Bob Price   \n",
       "4567   In Interview With Bill Maher, Obama Warns Amer...      Allison Vincent   \n",
       "8483   Diplomatic Deal With Turkey Upsets Israelis Wa...      Isabel Kershner   \n",
       "1188   BRINK OF WAR: UK sends TANKS, DRONES and 800 S...                admin   \n",
       "\n",
       "                                                    text       label  \n",
       "20388  A National Guard soldier headed home from a de...    reliable  \n",
       "4038   Two Houston Police Department officers were ho...    reliable  \n",
       "4567   By Allison Vincent Election 2016 , News , Poli...  unreliable  \n",
       "8483   JERUSALEM  —   As Israeli and Turkish leaders ...    reliable  \n",
       "1188   By JOEY MILLAR \\nThe show of force comes just ...  unreliable  "
      ]
     },
     "execution_count": 5,
     "metadata": {},
     "output_type": "execute_result"
    }
   ],
   "source": [
    "test.head()"
   ]
  },
  {
   "cell_type": "markdown",
   "metadata": {},
   "source": [
    "## Classification\n",
    "\n",
    "<mark>Only use one of the options—on run, it overrides the classifier variables.</mark>"
   ]
  },
  {
   "cell_type": "markdown",
   "metadata": {},
   "source": [
    "### Option 1: Naïve Bayes"
   ]
  },
  {
   "cell_type": "code",
   "execution_count": 6,
   "metadata": {},
   "outputs": [],
   "source": [
    "classifier_name = \"naïve Bayes\"\n",
    "pipeline = Pipeline(base_pipeline_steps + [('clf', MultinomialNB())])"
   ]
  },
  {
   "cell_type": "markdown",
   "metadata": {},
   "source": [
    "### Option 2: Stochastic Gradient Descent"
   ]
  },
  {
   "cell_type": "code",
   "execution_count": 7,
   "metadata": {},
   "outputs": [],
   "source": [
    "classifier_name = \"stochastic gradient descent\"\n",
    "pipeline = Pipeline(base_pipeline_steps + [\n",
    "    ('clf', SGDClassifier(loss='perceptron', alpha=1e-3, random_state=42, max_iter=5, tol=None)),\n",
    "])"
   ]
  },
  {
   "cell_type": "markdown",
   "metadata": {},
   "source": [
    "### Option 3: Passive Aggressive"
   ]
  },
  {
   "cell_type": "code",
   "execution_count": 8,
   "metadata": {},
   "outputs": [],
   "source": [
    "classifier_name = \"passive aggressive\"\n",
    "pipeline = Pipeline(base_pipeline_steps + [('clf', PassiveAggressiveClassifier(loss='squared_hinge'))])"
   ]
  },
  {
   "cell_type": "markdown",
   "metadata": {},
   "source": [
    "## Train Classifier"
   ]
  },
  {
   "cell_type": "code",
   "execution_count": 9,
   "metadata": {},
   "outputs": [
    {
     "name": "stderr",
     "output_type": "stream",
     "text": [
      "/usr/local/lib/python3.7/site-packages/sklearn/linear_model/stochastic_gradient.py:166: FutureWarning: max_iter and tol parameters have been added in PassiveAggressiveClassifier in 0.19. If both are left unset, they default to max_iter=5 and tol=None. If tol is not None, max_iter defaults to max_iter=1000. From 0.21, default max_iter will be 1000, and default tol will be 1e-3.\n",
      "  FutureWarning)\n"
     ]
    },
    {
     "data": {
      "text/plain": [
       "Pipeline(memory=None,\n",
       "     steps=[('vect', CountVectorizer(analyzer='word', binary=False, decode_error='strict',\n",
       "        dtype=<class 'numpy.int64'>, encoding='utf-8', input='content',\n",
       "        lowercase=True, max_df=1.0, max_features=None, min_df=1,\n",
       "        ngram_range=(1, 1), preprocessor=None, stop_words=None,\n",
       "        strip...       shuffle=True, tol=None, validation_fraction=0.1, verbose=0,\n",
       "              warm_start=False))])"
      ]
     },
     "execution_count": 9,
     "metadata": {},
     "output_type": "execute_result"
    }
   ],
   "source": [
    "pipeline.fit(x_train, y_train)"
   ]
  },
  {
   "cell_type": "code",
   "execution_count": 10,
   "metadata": {},
   "outputs": [],
   "source": [
    "vectorizer = pipeline.steps[0][1]\n",
    "classifier = pipeline.steps[2][1]\n",
    "\n",
    "feature_weights = sorted(zip(classifier.coef_[0], vectorizer.get_feature_names()))\n",
    "features = pd.DataFrame(feature_weights, columns=['weight', 'token'])"
   ]
  },
  {
   "cell_type": "markdown",
   "metadata": {},
   "source": [
    "### Most Unreliable Features"
   ]
  },
  {
   "cell_type": "code",
   "execution_count": 11,
   "metadata": {},
   "outputs": [
    {
     "data": {
      "text/html": [
       "<div>\n",
       "<style scoped>\n",
       "    .dataframe tbody tr th:only-of-type {\n",
       "        vertical-align: middle;\n",
       "    }\n",
       "\n",
       "    .dataframe tbody tr th {\n",
       "        vertical-align: top;\n",
       "    }\n",
       "\n",
       "    .dataframe thead th {\n",
       "        text-align: right;\n",
       "    }\n",
       "</style>\n",
       "<table border=\"1\" class=\"dataframe\">\n",
       "  <thead>\n",
       "    <tr style=\"text-align: right;\">\n",
       "      <th></th>\n",
       "      <th>weight</th>\n",
       "      <th>token</th>\n",
       "    </tr>\n",
       "  </thead>\n",
       "  <tbody>\n",
       "    <tr>\n",
       "      <th>0</th>\n",
       "      <td>-6.999958</td>\n",
       "      <td>said</td>\n",
       "    </tr>\n",
       "    <tr>\n",
       "      <th>1</th>\n",
       "      <td>-6.527838</td>\n",
       "      <td>breitbart</td>\n",
       "    </tr>\n",
       "    <tr>\n",
       "      <th>2</th>\n",
       "      <td>-6.416279</td>\n",
       "      <td>twitter</td>\n",
       "    </tr>\n",
       "    <tr>\n",
       "      <th>3</th>\n",
       "      <td>-5.454342</td>\n",
       "      <td>2017</td>\n",
       "    </tr>\n",
       "    <tr>\n",
       "      <th>4</th>\n",
       "      <td>-5.342326</td>\n",
       "      <td>follow</td>\n",
       "    </tr>\n",
       "  </tbody>\n",
       "</table>\n",
       "</div>"
      ],
      "text/plain": [
       "     weight      token\n",
       "0 -6.999958       said\n",
       "1 -6.527838  breitbart\n",
       "2 -6.416279    twitter\n",
       "3 -5.454342       2017\n",
       "4 -5.342326     follow"
      ]
     },
     "execution_count": 11,
     "metadata": {},
     "output_type": "execute_result"
    }
   ],
   "source": [
    "features.head()"
   ]
  },
  {
   "cell_type": "markdown",
   "metadata": {},
   "source": [
    "### Most Reliable Features"
   ]
  },
  {
   "cell_type": "code",
   "execution_count": 12,
   "metadata": {},
   "outputs": [
    {
     "data": {
      "text/html": [
       "<div>\n",
       "<style scoped>\n",
       "    .dataframe tbody tr th:only-of-type {\n",
       "        vertical-align: middle;\n",
       "    }\n",
       "\n",
       "    .dataframe tbody tr th {\n",
       "        vertical-align: top;\n",
       "    }\n",
       "\n",
       "    .dataframe thead th {\n",
       "        text-align: right;\n",
       "    }\n",
       "</style>\n",
       "<table border=\"1\" class=\"dataframe\">\n",
       "  <thead>\n",
       "    <tr style=\"text-align: right;\">\n",
       "      <th></th>\n",
       "      <th>weight</th>\n",
       "      <th>token</th>\n",
       "    </tr>\n",
       "  </thead>\n",
       "  <tbody>\n",
       "    <tr>\n",
       "      <th>114571</th>\n",
       "      <td>4.535730</td>\n",
       "      <td>hillary</td>\n",
       "    </tr>\n",
       "    <tr>\n",
       "      <th>114572</th>\n",
       "      <td>4.632024</td>\n",
       "      <td>us</td>\n",
       "    </tr>\n",
       "    <tr>\n",
       "      <th>114573</th>\n",
       "      <td>5.367817</td>\n",
       "      <td>october</td>\n",
       "    </tr>\n",
       "    <tr>\n",
       "      <th>114574</th>\n",
       "      <td>6.240606</td>\n",
       "      <td>anti</td>\n",
       "    </tr>\n",
       "    <tr>\n",
       "      <th>114575</th>\n",
       "      <td>6.449284</td>\n",
       "      <td>2016</td>\n",
       "    </tr>\n",
       "  </tbody>\n",
       "</table>\n",
       "</div>"
      ],
      "text/plain": [
       "          weight    token\n",
       "114571  4.535730  hillary\n",
       "114572  4.632024       us\n",
       "114573  5.367817  october\n",
       "114574  6.240606     anti\n",
       "114575  6.449284     2016"
      ]
     },
     "execution_count": 12,
     "metadata": {},
     "output_type": "execute_result"
    }
   ],
   "source": [
    "features.tail()"
   ]
  },
  {
   "cell_type": "markdown",
   "metadata": {},
   "source": [
    "## Evaluate Classifier Against Testing Data"
   ]
  },
  {
   "cell_type": "code",
   "execution_count": 13,
   "metadata": {},
   "outputs": [],
   "source": [
    "prediction = pipeline.predict(x_test)"
   ]
  },
  {
   "cell_type": "code",
   "execution_count": 14,
   "metadata": {},
   "outputs": [
    {
     "name": "stderr",
     "output_type": "stream",
     "text": [
      "/usr/local/lib/python3.7/site-packages/pandas/core/indexing.py:362: SettingWithCopyWarning: \n",
      "A value is trying to be set on a copy of a slice from a DataFrame.\n",
      "Try using .loc[row_indexer,col_indexer] = value instead\n",
      "\n",
      "See the caveats in the documentation: http://pandas.pydata.org/pandas-docs/stable/indexing.html#indexing-view-versus-copy\n",
      "  self.obj[key] = _infer_fill_value(value)\n",
      "/usr/local/lib/python3.7/site-packages/pandas/core/indexing.py:543: SettingWithCopyWarning: \n",
      "A value is trying to be set on a copy of a slice from a DataFrame.\n",
      "Try using .loc[row_indexer,col_indexer] = value instead\n",
      "\n",
      "See the caveats in the documentation: http://pandas.pydata.org/pandas-docs/stable/indexing.html#indexing-view-versus-copy\n",
      "  self.obj[item] = s\n"
     ]
    }
   ],
   "source": [
    "def outcome(row):\n",
    "    if row['label'] == row['prediction']:\n",
    "        return ''\n",
    "    \n",
    "    if row['prediction'] == 'unreliable':\n",
    "        return 'false positive'\n",
    "    \n",
    "    return 'false negative'\n",
    "\n",
    "test.loc[:,'prediction'] = prediction\n",
    "test.loc[:,'outcome'] = test.apply(lambda row: outcome(row), axis=1)\n",
    "\n",
    "accuracy = np.mean(prediction == y_test)\n",
    "\n",
    "false_positives = test[test['outcome'] == 'false positive']\n",
    "false_negatives = test[test['outcome'] == 'false negative']"
   ]
  },
  {
   "cell_type": "code",
   "execution_count": 15,
   "metadata": {},
   "outputs": [
    {
     "name": "stdout",
     "output_type": "stream",
     "text": [
      "classifier: passive aggressive\n",
      "accuracy: 0.9584381494039156\n"
     ]
    }
   ],
   "source": [
    "print('classifier:', classifier_name)\n",
    "print('accuracy:', accuracy)"
   ]
  },
  {
   "cell_type": "code",
   "execution_count": 16,
   "metadata": {},
   "outputs": [
    {
     "name": "stdout",
     "output_type": "stream",
     "text": [
      "380 misclassified documents of 9143 documents\n",
      "157 false positives\n",
      "223 false negatives\n"
     ]
    }
   ],
   "source": [
    "num_false_positives = len(false_positives.index)\n",
    "num_false_negatives = len(false_negatives.index)\n",
    "\n",
    "print('%s misclassified documents of %s documents' % (num_false_positives + num_false_negatives, len(test.index)))\n",
    "print('%s false positives' % num_false_positives)\n",
    "print('%s false negatives' % num_false_negatives)"
   ]
  },
  {
   "cell_type": "markdown",
   "metadata": {},
   "source": [
    "## Visualize Classifications"
   ]
  },
  {
   "cell_type": "code",
   "execution_count": 17,
   "metadata": {},
   "outputs": [
    {
     "data": {
      "text/html": [
       "<style  type=\"text/css\" >\n",
       "    #T_c5f45934_6544_11e9_b393_acbc3284747brow0_col0 {\n",
       "            background-color:  white;\n",
       "             color:  black;\n",
       "        }    #T_c5f45934_6544_11e9_b393_acbc3284747brow0_col1 {\n",
       "            background-color:  white;\n",
       "             color:  black;\n",
       "        }    #T_c5f45934_6544_11e9_b393_acbc3284747brow0_col2 {\n",
       "            background-color:  white;\n",
       "             color:  black;\n",
       "        }    #T_c5f45934_6544_11e9_b393_acbc3284747brow0_col3 {\n",
       "            background-color:  white;\n",
       "             color:  black;\n",
       "        }    #T_c5f45934_6544_11e9_b393_acbc3284747brow0_col4 {\n",
       "            background-color:  white;\n",
       "             color:  black;\n",
       "        }    #T_c5f45934_6544_11e9_b393_acbc3284747brow0_col5 {\n",
       "            background-color:  white;\n",
       "             color:  black;\n",
       "        }    #T_c5f45934_6544_11e9_b393_acbc3284747brow1_col0 {\n",
       "            background-color:  white;\n",
       "             color:  black;\n",
       "        }    #T_c5f45934_6544_11e9_b393_acbc3284747brow1_col1 {\n",
       "            background-color:  white;\n",
       "             color:  black;\n",
       "        }    #T_c5f45934_6544_11e9_b393_acbc3284747brow1_col2 {\n",
       "            background-color:  white;\n",
       "             color:  black;\n",
       "        }    #T_c5f45934_6544_11e9_b393_acbc3284747brow1_col3 {\n",
       "            background-color:  white;\n",
       "             color:  black;\n",
       "        }    #T_c5f45934_6544_11e9_b393_acbc3284747brow1_col4 {\n",
       "            background-color:  white;\n",
       "             color:  black;\n",
       "        }    #T_c5f45934_6544_11e9_b393_acbc3284747brow1_col5 {\n",
       "            background-color:  white;\n",
       "             color:  black;\n",
       "        }    #T_c5f45934_6544_11e9_b393_acbc3284747brow2_col0 {\n",
       "            background-color:  white;\n",
       "             color:  black;\n",
       "        }    #T_c5f45934_6544_11e9_b393_acbc3284747brow2_col1 {\n",
       "            background-color:  white;\n",
       "             color:  black;\n",
       "        }    #T_c5f45934_6544_11e9_b393_acbc3284747brow2_col2 {\n",
       "            background-color:  white;\n",
       "             color:  black;\n",
       "        }    #T_c5f45934_6544_11e9_b393_acbc3284747brow2_col3 {\n",
       "            background-color:  white;\n",
       "             color:  black;\n",
       "        }    #T_c5f45934_6544_11e9_b393_acbc3284747brow2_col4 {\n",
       "            background-color:  white;\n",
       "             color:  black;\n",
       "        }    #T_c5f45934_6544_11e9_b393_acbc3284747brow2_col5 {\n",
       "            background-color:  white;\n",
       "             color:  black;\n",
       "        }    #T_c5f45934_6544_11e9_b393_acbc3284747brow3_col0 {\n",
       "            background-color:  white;\n",
       "             color:  black;\n",
       "        }    #T_c5f45934_6544_11e9_b393_acbc3284747brow3_col1 {\n",
       "            background-color:  white;\n",
       "             color:  black;\n",
       "        }    #T_c5f45934_6544_11e9_b393_acbc3284747brow3_col2 {\n",
       "            background-color:  white;\n",
       "             color:  black;\n",
       "        }    #T_c5f45934_6544_11e9_b393_acbc3284747brow3_col3 {\n",
       "            background-color:  white;\n",
       "             color:  black;\n",
       "        }    #T_c5f45934_6544_11e9_b393_acbc3284747brow3_col4 {\n",
       "            background-color:  white;\n",
       "             color:  black;\n",
       "        }    #T_c5f45934_6544_11e9_b393_acbc3284747brow3_col5 {\n",
       "            background-color:  white;\n",
       "             color:  black;\n",
       "        }    #T_c5f45934_6544_11e9_b393_acbc3284747brow4_col0 {\n",
       "            background-color:  white;\n",
       "             color:  black;\n",
       "        }    #T_c5f45934_6544_11e9_b393_acbc3284747brow4_col1 {\n",
       "            background-color:  white;\n",
       "             color:  black;\n",
       "        }    #T_c5f45934_6544_11e9_b393_acbc3284747brow4_col2 {\n",
       "            background-color:  white;\n",
       "             color:  black;\n",
       "        }    #T_c5f45934_6544_11e9_b393_acbc3284747brow4_col3 {\n",
       "            background-color:  white;\n",
       "             color:  black;\n",
       "        }    #T_c5f45934_6544_11e9_b393_acbc3284747brow4_col4 {\n",
       "            background-color:  white;\n",
       "             color:  black;\n",
       "        }    #T_c5f45934_6544_11e9_b393_acbc3284747brow4_col5 {\n",
       "            background-color:  white;\n",
       "             color:  black;\n",
       "        }</style><table id=\"T_c5f45934_6544_11e9_b393_acbc3284747b\" ><thead>    <tr>        <th class=\"blank level0\" ></th>        <th class=\"col_heading level0 col0\" >title</th>        <th class=\"col_heading level0 col1\" >author</th>        <th class=\"col_heading level0 col2\" >text</th>        <th class=\"col_heading level0 col3\" >label</th>        <th class=\"col_heading level0 col4\" >prediction</th>        <th class=\"col_heading level0 col5\" >outcome</th>    </tr></thead><tbody>\n",
       "                <tr>\n",
       "                        <th id=\"T_c5f45934_6544_11e9_b393_acbc3284747blevel0_row0\" class=\"row_heading level0 row0\" >20388</th>\n",
       "                        <td id=\"T_c5f45934_6544_11e9_b393_acbc3284747brow0_col0\" class=\"data row0 col0\" >Soldier Headed Home from Deployment Says United Airlines Charged Him $200 for ’Overweight’ Military </td>\n",
       "                        <td id=\"T_c5f45934_6544_11e9_b393_acbc3284747brow0_col1\" class=\"data row0 col1\" >Katherine Rodriguez</td>\n",
       "                        <td id=\"T_c5f45934_6544_11e9_b393_acbc3284747brow0_col2\" class=\"data row0 col2\" >A National Guard soldier headed home from a deployment to Afghanistan says he was charged a hefty fe</td>\n",
       "                        <td id=\"T_c5f45934_6544_11e9_b393_acbc3284747brow0_col3\" class=\"data row0 col3\" >reliable</td>\n",
       "                        <td id=\"T_c5f45934_6544_11e9_b393_acbc3284747brow0_col4\" class=\"data row0 col4\" >reliable</td>\n",
       "                        <td id=\"T_c5f45934_6544_11e9_b393_acbc3284747brow0_col5\" class=\"data row0 col5\" ></td>\n",
       "            </tr>\n",
       "            <tr>\n",
       "                        <th id=\"T_c5f45934_6544_11e9_b393_acbc3284747blevel0_row1\" class=\"row_heading level0 row1\" >4038</th>\n",
       "                        <td id=\"T_c5f45934_6544_11e9_b393_acbc3284747brow1_col0\" class=\"data row1 col0\" >Two Houston Police Officers Shot, Manhunt Underway</td>\n",
       "                        <td id=\"T_c5f45934_6544_11e9_b393_acbc3284747brow1_col1\" class=\"data row1 col1\" >Bob Price</td>\n",
       "                        <td id=\"T_c5f45934_6544_11e9_b393_acbc3284747brow1_col2\" class=\"data row1 col2\" >Two Houston Police Department officers were hospitalized Tuesday after a suspected burglar reportedl</td>\n",
       "                        <td id=\"T_c5f45934_6544_11e9_b393_acbc3284747brow1_col3\" class=\"data row1 col3\" >reliable</td>\n",
       "                        <td id=\"T_c5f45934_6544_11e9_b393_acbc3284747brow1_col4\" class=\"data row1 col4\" >reliable</td>\n",
       "                        <td id=\"T_c5f45934_6544_11e9_b393_acbc3284747brow1_col5\" class=\"data row1 col5\" ></td>\n",
       "            </tr>\n",
       "            <tr>\n",
       "                        <th id=\"T_c5f45934_6544_11e9_b393_acbc3284747blevel0_row2\" class=\"row_heading level0 row2\" >4567</th>\n",
       "                        <td id=\"T_c5f45934_6544_11e9_b393_acbc3284747brow2_col0\" class=\"data row2 col0\" >In Interview With Bill Maher, Obama Warns America: Sitting Out This Election Is A Vote For Trump (VI</td>\n",
       "                        <td id=\"T_c5f45934_6544_11e9_b393_acbc3284747brow2_col1\" class=\"data row2 col1\" >Allison Vincent</td>\n",
       "                        <td id=\"T_c5f45934_6544_11e9_b393_acbc3284747brow2_col2\" class=\"data row2 col2\" >By Allison Vincent Election 2016 , News , Politics , Videos November 5, 2016 In Interview With Bill </td>\n",
       "                        <td id=\"T_c5f45934_6544_11e9_b393_acbc3284747brow2_col3\" class=\"data row2 col3\" >unreliable</td>\n",
       "                        <td id=\"T_c5f45934_6544_11e9_b393_acbc3284747brow2_col4\" class=\"data row2 col4\" >unreliable</td>\n",
       "                        <td id=\"T_c5f45934_6544_11e9_b393_acbc3284747brow2_col5\" class=\"data row2 col5\" ></td>\n",
       "            </tr>\n",
       "            <tr>\n",
       "                        <th id=\"T_c5f45934_6544_11e9_b393_acbc3284747blevel0_row3\" class=\"row_heading level0 row3\" >8483</th>\n",
       "                        <td id=\"T_c5f45934_6544_11e9_b393_acbc3284747brow3_col0\" class=\"data row3 col0\" >Diplomatic Deal With Turkey Upsets Israelis Wary of Conceding Too Much - The New York Times</td>\n",
       "                        <td id=\"T_c5f45934_6544_11e9_b393_acbc3284747brow3_col1\" class=\"data row3 col1\" >Isabel Kershner</td>\n",
       "                        <td id=\"T_c5f45934_6544_11e9_b393_acbc3284747brow3_col2\" class=\"data row3 col2\" >JERUSALEM  —   As Israeli and Turkish leaders announced the formal resumption of full diplomatic rel</td>\n",
       "                        <td id=\"T_c5f45934_6544_11e9_b393_acbc3284747brow3_col3\" class=\"data row3 col3\" >reliable</td>\n",
       "                        <td id=\"T_c5f45934_6544_11e9_b393_acbc3284747brow3_col4\" class=\"data row3 col4\" >reliable</td>\n",
       "                        <td id=\"T_c5f45934_6544_11e9_b393_acbc3284747brow3_col5\" class=\"data row3 col5\" ></td>\n",
       "            </tr>\n",
       "            <tr>\n",
       "                        <th id=\"T_c5f45934_6544_11e9_b393_acbc3284747blevel0_row4\" class=\"row_heading level0 row4\" >1188</th>\n",
       "                        <td id=\"T_c5f45934_6544_11e9_b393_acbc3284747brow4_col0\" class=\"data row4 col0\" >BRINK OF WAR: UK sends TANKS, DRONES and 800 SOLDIERS to Russian border as tensions grow</td>\n",
       "                        <td id=\"T_c5f45934_6544_11e9_b393_acbc3284747brow4_col1\" class=\"data row4 col1\" >admin</td>\n",
       "                        <td id=\"T_c5f45934_6544_11e9_b393_acbc3284747brow4_col2\" class=\"data row4 col2\" >By JOEY MILLAR \n",
       "The show of force comes just days after the Russian leader’s fleet passed near the B</td>\n",
       "                        <td id=\"T_c5f45934_6544_11e9_b393_acbc3284747brow4_col3\" class=\"data row4 col3\" >unreliable</td>\n",
       "                        <td id=\"T_c5f45934_6544_11e9_b393_acbc3284747brow4_col4\" class=\"data row4 col4\" >unreliable</td>\n",
       "                        <td id=\"T_c5f45934_6544_11e9_b393_acbc3284747brow4_col5\" class=\"data row4 col5\" ></td>\n",
       "            </tr>\n",
       "    </tbody></table>"
      ],
      "text/plain": [
       "<pandas.io.formats.style.Styler at 0x1181656a0>"
      ]
     },
     "execution_count": 17,
     "metadata": {},
     "output_type": "execute_result"
    }
   ],
   "source": [
    "summary = test.apply(lambda x: x.str.slice(0, 100))\n",
    "\n",
    "def highlight_misclassfied(row):\n",
    "\n",
    "    bg_color = 'white'\n",
    "    text_color = 'black'\n",
    "    \n",
    "    if row['outcome'] != '':\n",
    "        bg_color = 'red'\n",
    "        text_color = 'white'\n",
    "\n",
    "    return ['background-color: %s; color: %s;' % (bg_color, text_color)]*len(row.values)\n",
    "\n",
    "summary.head().style.apply(highlight_misclassfied, axis=1)"
   ]
  },
  {
   "cell_type": "code",
   "execution_count": 18,
   "metadata": {},
   "outputs": [
    {
     "data": {
      "text/html": [
       "<div>\n",
       "<style scoped>\n",
       "    .dataframe tbody tr th:only-of-type {\n",
       "        vertical-align: middle;\n",
       "    }\n",
       "\n",
       "    .dataframe tbody tr th {\n",
       "        vertical-align: top;\n",
       "    }\n",
       "\n",
       "    .dataframe thead th {\n",
       "        text-align: right;\n",
       "    }\n",
       "</style>\n",
       "<table border=\"1\" class=\"dataframe\">\n",
       "  <thead>\n",
       "    <tr style=\"text-align: right;\">\n",
       "      <th></th>\n",
       "      <th>title</th>\n",
       "      <th>author</th>\n",
       "      <th>text</th>\n",
       "      <th>label</th>\n",
       "      <th>prediction</th>\n",
       "      <th>outcome</th>\n",
       "    </tr>\n",
       "  </thead>\n",
       "  <tbody>\n",
       "    <tr>\n",
       "      <th>15318</th>\n",
       "      <td>Judicial Watch: Huma Abedin Emails Show Favors...</td>\n",
       "      <td>Kristina Wong</td>\n",
       "      <td>Hillary Clinton emails recently discovered on ...</td>\n",
       "      <td>reliable</td>\n",
       "      <td>unreliable</td>\n",
       "      <td>false positive</td>\n",
       "    </tr>\n",
       "    <tr>\n",
       "      <th>6052</th>\n",
       "      <td>YouTube Restores Conservative ’Legal Insurrect...</td>\n",
       "      <td>Charlie Nash</td>\n",
       "      <td>YouTube has restored the official channel for ...</td>\n",
       "      <td>reliable</td>\n",
       "      <td>unreliable</td>\n",
       "      <td>false positive</td>\n",
       "    </tr>\n",
       "    <tr>\n",
       "      <th>4427</th>\n",
       "      <td>Amazon’s July 12 ‘Day of Action’ for Net Neutr...</td>\n",
       "      <td>Chriss W. Street</td>\n",
       "      <td>Amazon is mobilizing a July 12 collective “Day...</td>\n",
       "      <td>reliable</td>\n",
       "      <td>unreliable</td>\n",
       "      <td>false positive</td>\n",
       "    </tr>\n",
       "    <tr>\n",
       "      <th>2689</th>\n",
       "      <td>Ann Coulter: All We Need Is Love ... and Depor...</td>\n",
       "      <td>Ann Coulter</td>\n",
       "      <td>In Britain, as in the U. S. when an Islamic te...</td>\n",
       "      <td>reliable</td>\n",
       "      <td>unreliable</td>\n",
       "      <td>false positive</td>\n",
       "    </tr>\n",
       "    <tr>\n",
       "      <th>8101</th>\n",
       "      <td>Report: Donald Trump’s 2016 TV Ads Promised Po...</td>\n",
       "      <td>Neil Munro</td>\n",
       "      <td>Donald Trump’s 2016 TV campaign  were far more...</td>\n",
       "      <td>reliable</td>\n",
       "      <td>unreliable</td>\n",
       "      <td>false positive</td>\n",
       "    </tr>\n",
       "  </tbody>\n",
       "</table>\n",
       "</div>"
      ],
      "text/plain": [
       "                                                   title            author  \\\n",
       "15318  Judicial Watch: Huma Abedin Emails Show Favors...     Kristina Wong   \n",
       "6052   YouTube Restores Conservative ’Legal Insurrect...      Charlie Nash   \n",
       "4427   Amazon’s July 12 ‘Day of Action’ for Net Neutr...  Chriss W. Street   \n",
       "2689   Ann Coulter: All We Need Is Love ... and Depor...       Ann Coulter   \n",
       "8101   Report: Donald Trump’s 2016 TV Ads Promised Po...        Neil Munro   \n",
       "\n",
       "                                                    text     label  \\\n",
       "15318  Hillary Clinton emails recently discovered on ...  reliable   \n",
       "6052   YouTube has restored the official channel for ...  reliable   \n",
       "4427   Amazon is mobilizing a July 12 collective “Day...  reliable   \n",
       "2689   In Britain, as in the U. S. when an Islamic te...  reliable   \n",
       "8101   Donald Trump’s 2016 TV campaign  were far more...  reliable   \n",
       "\n",
       "       prediction         outcome  \n",
       "15318  unreliable  false positive  \n",
       "6052   unreliable  false positive  \n",
       "4427   unreliable  false positive  \n",
       "2689   unreliable  false positive  \n",
       "8101   unreliable  false positive  "
      ]
     },
     "execution_count": 18,
     "metadata": {},
     "output_type": "execute_result"
    }
   ],
   "source": [
    "false_positives.head()"
   ]
  },
  {
   "cell_type": "code",
   "execution_count": 19,
   "metadata": {},
   "outputs": [
    {
     "data": {
      "text/html": [
       "<div>\n",
       "<style scoped>\n",
       "    .dataframe tbody tr th:only-of-type {\n",
       "        vertical-align: middle;\n",
       "    }\n",
       "\n",
       "    .dataframe tbody tr th {\n",
       "        vertical-align: top;\n",
       "    }\n",
       "\n",
       "    .dataframe thead th {\n",
       "        text-align: right;\n",
       "    }\n",
       "</style>\n",
       "<table border=\"1\" class=\"dataframe\">\n",
       "  <thead>\n",
       "    <tr style=\"text-align: right;\">\n",
       "      <th></th>\n",
       "      <th>title</th>\n",
       "      <th>author</th>\n",
       "      <th>text</th>\n",
       "      <th>label</th>\n",
       "      <th>prediction</th>\n",
       "      <th>outcome</th>\n",
       "    </tr>\n",
       "  </thead>\n",
       "  <tbody>\n",
       "    <tr>\n",
       "      <th>18680</th>\n",
       "      <td>Mobilizing in Guatemala</td>\n",
       "      <td>Rowan Wolf</td>\n",
       "      <td>[Photo: Chiquibul Forest Reserve near Guatemal...</td>\n",
       "      <td>unreliable</td>\n",
       "      <td>reliable</td>\n",
       "      <td>false negative</td>\n",
       "    </tr>\n",
       "    <tr>\n",
       "      <th>18432</th>\n",
       "      <td>NFL Warns Clenbuterol Level So High in Beef th...</td>\n",
       "      <td>Amando Flavio</td>\n",
       "      <td>The National Football League (NFL) in the Unit...</td>\n",
       "      <td>unreliable</td>\n",
       "      <td>reliable</td>\n",
       "      <td>false negative</td>\n",
       "    </tr>\n",
       "    <tr>\n",
       "      <th>12877</th>\n",
       "      <td>Donald Trump Elected 45th President Of The Uni...</td>\n",
       "      <td>Roosh Valizadeh</td>\n",
       "      <td>Via AP : \\nDonald Trump was elected America’s ...</td>\n",
       "      <td>unreliable</td>\n",
       "      <td>reliable</td>\n",
       "      <td>false negative</td>\n",
       "    </tr>\n",
       "    <tr>\n",
       "      <th>14430</th>\n",
       "      <td>FANTASTIC! TRUMP'S 7 POINT PLAN To Reform Heal...</td>\n",
       "      <td>Fed Up</td>\n",
       "      <td>Email HEALTHCARE REFORM TO MAKE AMERICA GREAT ...</td>\n",
       "      <td>unreliable</td>\n",
       "      <td>reliable</td>\n",
       "      <td>false negative</td>\n",
       "    </tr>\n",
       "    <tr>\n",
       "      <th>17966</th>\n",
       "      <td>Occupier David Fry released from jail: ‘I’m re...</td>\n",
       "      <td>Admin</td>\n",
       "      <td>PORTLAND, Ore. (KOIN) — The last person to sur...</td>\n",
       "      <td>unreliable</td>\n",
       "      <td>reliable</td>\n",
       "      <td>false negative</td>\n",
       "    </tr>\n",
       "  </tbody>\n",
       "</table>\n",
       "</div>"
      ],
      "text/plain": [
       "                                                   title           author  \\\n",
       "18680                            Mobilizing in Guatemala       Rowan Wolf   \n",
       "18432  NFL Warns Clenbuterol Level So High in Beef th...    Amando Flavio   \n",
       "12877  Donald Trump Elected 45th President Of The Uni...  Roosh Valizadeh   \n",
       "14430  FANTASTIC! TRUMP'S 7 POINT PLAN To Reform Heal...           Fed Up   \n",
       "17966  Occupier David Fry released from jail: ‘I’m re...            Admin   \n",
       "\n",
       "                                                    text       label  \\\n",
       "18680  [Photo: Chiquibul Forest Reserve near Guatemal...  unreliable   \n",
       "18432  The National Football League (NFL) in the Unit...  unreliable   \n",
       "12877  Via AP : \\nDonald Trump was elected America’s ...  unreliable   \n",
       "14430  Email HEALTHCARE REFORM TO MAKE AMERICA GREAT ...  unreliable   \n",
       "17966  PORTLAND, Ore. (KOIN) — The last person to sur...  unreliable   \n",
       "\n",
       "      prediction         outcome  \n",
       "18680   reliable  false negative  \n",
       "18432   reliable  false negative  \n",
       "12877   reliable  false negative  \n",
       "14430   reliable  false negative  \n",
       "17966   reliable  false negative  "
      ]
     },
     "execution_count": 19,
     "metadata": {},
     "output_type": "execute_result"
    }
   ],
   "source": [
    "false_negatives.head()"
   ]
  }
 ],
 "metadata": {
  "kernelspec": {
   "display_name": "Python 3",
   "language": "python",
   "name": "python3"
  },
  "language_info": {
   "codemirror_mode": {
    "name": "ipython",
    "version": 3
   },
   "file_extension": ".py",
   "mimetype": "text/x-python",
   "name": "python",
   "nbconvert_exporter": "python",
   "pygments_lexer": "ipython3",
   "version": "3.7.3"
  }
 },
 "nbformat": 4,
 "nbformat_minor": 2
}
