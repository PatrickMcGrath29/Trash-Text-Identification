{
 "cells": [
  {
   "cell_type": "code",
   "execution_count": 4,
   "metadata": {},
   "outputs": [],
   "source": [
    "import numpy as np\n",
    "import pandas as pd\n",
    "from sklearn import metrics\n",
    "from sklearn.pipeline import Pipeline\n",
    "from sklearn.model_selection import train_test_split\n",
    "from sklearn.naive_bayes import MultinomialNB\n",
    "from sklearn.feature_extraction.text import TfidfTransformer, CountVectorizer\n",
    "from sklearn.linear_model import PassiveAggressiveClassifier, SGDClassifier\n",
    "import matplotlib.pyplot as plt\n",
    "from sklearn.model_selection import learning_curve\n",
    "from sklearn.model_selection import ShuffleSplit"
   ]
  },
  {
   "cell_type": "markdown",
   "metadata": {},
   "source": [
    "## Clean and Vectorize Data"
   ]
  },
  {
   "cell_type": "code",
   "execution_count": 5,
   "metadata": {},
   "outputs": [],
   "source": [
    "# Clean the data Whoop whoop\n",
    "df = pd.read_csv('data/train.csv')\n",
    "df.drop('id', inplace=True, axis=1)\n",
    "df.replace('', np.nan, inplace=True)\n",
    "df.dropna(inplace=True)\n",
    "\n",
    "df['label'].replace(0, 'reliable', inplace=True)\n",
    "df['label'].replace(1, 'unreliable', inplace=True)\n",
    "\n",
    "train, test = train_test_split(df, test_size=0.5)\n",
    "x_train = train['text']\n",
    "y_train = train['label']\n",
    "x_test = test['text']\n",
    "y_test = test['label']\n",
    "\n",
    "base_pipeline_steps = [\n",
    "    ('vect', CountVectorizer()),\n",
    "    ('tfidf', TfidfTransformer()),\n",
    "]"
   ]
  },
  {
   "cell_type": "code",
   "execution_count": 6,
   "metadata": {},
   "outputs": [
    {
     "data": {
      "text/html": [
       "<div>\n",
       "<style scoped>\n",
       "    .dataframe tbody tr th:only-of-type {\n",
       "        vertical-align: middle;\n",
       "    }\n",
       "\n",
       "    .dataframe tbody tr th {\n",
       "        vertical-align: top;\n",
       "    }\n",
       "\n",
       "    .dataframe thead th {\n",
       "        text-align: right;\n",
       "    }\n",
       "</style>\n",
       "<table border=\"1\" class=\"dataframe\">\n",
       "  <thead>\n",
       "    <tr style=\"text-align: right;\">\n",
       "      <th></th>\n",
       "      <th>title</th>\n",
       "      <th>author</th>\n",
       "      <th>text</th>\n",
       "      <th>label</th>\n",
       "    </tr>\n",
       "  </thead>\n",
       "  <tbody>\n",
       "    <tr>\n",
       "      <th>13699</th>\n",
       "      <td>Hands Off My Smiley Face: Emoji Become Corpora...</td>\n",
       "      <td>Amanda Hess</td>\n",
       "      <td>At last week’s Worldwide Developers Conference...</td>\n",
       "      <td>reliable</td>\n",
       "    </tr>\n",
       "    <tr>\n",
       "      <th>6838</th>\n",
       "      <td>STOP DRINKING STARBUCKS NOW! Just wait til You...</td>\n",
       "      <td>Danny Gold</td>\n",
       "      <td>90 \\nO man! I cannot stand Starbucks. Why the ...</td>\n",
       "      <td>unreliable</td>\n",
       "    </tr>\n",
       "    <tr>\n",
       "      <th>1815</th>\n",
       "      <td>Voting Machine Shocker: Video Proof Election I...</td>\n",
       "      <td>Starkman</td>\n",
       "      <td>The Clinton campaign have found a way to rig v...</td>\n",
       "      <td>unreliable</td>\n",
       "    </tr>\n",
       "    <tr>\n",
       "      <th>17189</th>\n",
       "      <td>Globalists In Exile: ‘Party of Davos’ a Gloomy...</td>\n",
       "      <td>Matthew Boyle</td>\n",
       "      <td>The globalists in world politics and internati...</td>\n",
       "      <td>reliable</td>\n",
       "    </tr>\n",
       "    <tr>\n",
       "      <th>15783</th>\n",
       "      <td>Iraqis Who Flee Fighting in Falluja Find Hards...</td>\n",
       "      <td>Tim Arango</td>\n",
       "      <td>AMIRIYAT FALLUJA, Iraq  —   One of the Iraqi c...</td>\n",
       "      <td>reliable</td>\n",
       "    </tr>\n",
       "  </tbody>\n",
       "</table>\n",
       "</div>"
      ],
      "text/plain": [
       "                                                   title         author  \\\n",
       "13699  Hands Off My Smiley Face: Emoji Become Corpora...    Amanda Hess   \n",
       "6838   STOP DRINKING STARBUCKS NOW! Just wait til You...     Danny Gold   \n",
       "1815   Voting Machine Shocker: Video Proof Election I...       Starkman   \n",
       "17189  Globalists In Exile: ‘Party of Davos’ a Gloomy...  Matthew Boyle   \n",
       "15783  Iraqis Who Flee Fighting in Falluja Find Hards...     Tim Arango   \n",
       "\n",
       "                                                    text       label  \n",
       "13699  At last week’s Worldwide Developers Conference...    reliable  \n",
       "6838   90 \\nO man! I cannot stand Starbucks. Why the ...  unreliable  \n",
       "1815   The Clinton campaign have found a way to rig v...  unreliable  \n",
       "17189  The globalists in world politics and internati...    reliable  \n",
       "15783  AMIRIYAT FALLUJA, Iraq  —   One of the Iraqi c...    reliable  "
      ]
     },
     "execution_count": 6,
     "metadata": {},
     "output_type": "execute_result"
    }
   ],
   "source": [
    "train.head()"
   ]
  },
  {
   "cell_type": "code",
   "execution_count": 7,
   "metadata": {},
   "outputs": [
    {
     "data": {
      "text/html": [
       "<div>\n",
       "<style scoped>\n",
       "    .dataframe tbody tr th:only-of-type {\n",
       "        vertical-align: middle;\n",
       "    }\n",
       "\n",
       "    .dataframe tbody tr th {\n",
       "        vertical-align: top;\n",
       "    }\n",
       "\n",
       "    .dataframe thead th {\n",
       "        text-align: right;\n",
       "    }\n",
       "</style>\n",
       "<table border=\"1\" class=\"dataframe\">\n",
       "  <thead>\n",
       "    <tr style=\"text-align: right;\">\n",
       "      <th></th>\n",
       "      <th>title</th>\n",
       "      <th>author</th>\n",
       "      <th>text</th>\n",
       "      <th>label</th>\n",
       "    </tr>\n",
       "  </thead>\n",
       "  <tbody>\n",
       "    <tr>\n",
       "      <th>7711</th>\n",
       "      <td>Can Donald Trump Win? These Battleground Regio...</td>\n",
       "      <td>Jonathan Martin, Alexander Burns, Trip Gabriel...</td>\n",
       "      <td>With Donald J. Trump pulling even or ahead of ...</td>\n",
       "      <td>reliable</td>\n",
       "    </tr>\n",
       "    <tr>\n",
       "      <th>13140</th>\n",
       "      <td>Donald Trump Used Over $250,000 From Charity f...</td>\n",
       "      <td>Steve Eder</td>\n",
       "      <td>Donald J. Trump, already under scrutiny for ho...</td>\n",
       "      <td>reliable</td>\n",
       "    </tr>\n",
       "    <tr>\n",
       "      <th>13777</th>\n",
       "      <td>The Matriarch Behind Beyoncé and Solange - The...</td>\n",
       "      <td>Alex Hawgood</td>\n",
       "      <td>For sisters in the public eye, Beyoncé and Sol...</td>\n",
       "      <td>reliable</td>\n",
       "    </tr>\n",
       "    <tr>\n",
       "      <th>7396</th>\n",
       "      <td>This Time, Anna Deavere Smith Cuts Close to Ho...</td>\n",
       "      <td>Kate Taylor</td>\n",
       "      <td>Anna Deavere Smith is coming home. The protean...</td>\n",
       "      <td>reliable</td>\n",
       "    </tr>\n",
       "    <tr>\n",
       "      <th>19836</th>\n",
       "      <td>Vanity Fair: National Politics Are all About D...</td>\n",
       "      <td>Neil Munro</td>\n",
       "      <td>The fate of Donald Trump’s presidency depends ...</td>\n",
       "      <td>reliable</td>\n",
       "    </tr>\n",
       "  </tbody>\n",
       "</table>\n",
       "</div>"
      ],
      "text/plain": [
       "                                                   title  \\\n",
       "7711   Can Donald Trump Win? These Battleground Regio...   \n",
       "13140  Donald Trump Used Over $250,000 From Charity f...   \n",
       "13777  The Matriarch Behind Beyoncé and Solange - The...   \n",
       "7396   This Time, Anna Deavere Smith Cuts Close to Ho...   \n",
       "19836  Vanity Fair: National Politics Are all About D...   \n",
       "\n",
       "                                                  author  \\\n",
       "7711   Jonathan Martin, Alexander Burns, Trip Gabriel...   \n",
       "13140                                         Steve Eder   \n",
       "13777                                       Alex Hawgood   \n",
       "7396                                         Kate Taylor   \n",
       "19836                                         Neil Munro   \n",
       "\n",
       "                                                    text     label  \n",
       "7711   With Donald J. Trump pulling even or ahead of ...  reliable  \n",
       "13140  Donald J. Trump, already under scrutiny for ho...  reliable  \n",
       "13777  For sisters in the public eye, Beyoncé and Sol...  reliable  \n",
       "7396   Anna Deavere Smith is coming home. The protean...  reliable  \n",
       "19836  The fate of Donald Trump’s presidency depends ...  reliable  "
      ]
     },
     "execution_count": 7,
     "metadata": {},
     "output_type": "execute_result"
    }
   ],
   "source": [
    "test.head()"
   ]
  },
  {
   "cell_type": "markdown",
   "metadata": {},
   "source": [
    "## Classification\n",
    "\n",
    "<mark>Only use one of the options—on run, it overrides the classifier variables.</mark>"
   ]
  },
  {
   "cell_type": "markdown",
   "metadata": {},
   "source": [
    "### Option 1: Naïve Bayes"
   ]
  },
  {
   "cell_type": "code",
   "execution_count": 8,
   "metadata": {},
   "outputs": [],
   "source": [
    "classifier_name = \"naïve Bayes\"\n",
    "pipeline = Pipeline(base_pipeline_steps + [('clf', MultinomialNB())])"
   ]
  },
  {
   "cell_type": "markdown",
   "metadata": {},
   "source": [
    "### Option 2: Stochastic Gradient Descent"
   ]
  },
  {
   "cell_type": "code",
   "execution_count": 9,
   "metadata": {},
   "outputs": [],
   "source": [
    "classifier_name = \"stochastic gradient descent\"\n",
    "pipeline = Pipeline(base_pipeline_steps + [\n",
    "    ('clf', SGDClassifier(loss='perceptron', alpha=1e-3, random_state=42, max_iter=5, tol=None)),\n",
    "])"
   ]
  },
  {
   "cell_type": "markdown",
   "metadata": {},
   "source": [
    "### Option 3: Passive Aggressive"
   ]
  },
  {
   "cell_type": "code",
   "execution_count": 10,
   "metadata": {},
   "outputs": [],
   "source": [
    "classifier_name = \"passive aggressive\"\n",
    "pipeline = Pipeline(base_pipeline_steps + [('clf', PassiveAggressiveClassifier(loss='squared_hinge'))])"
   ]
  },
  {
   "cell_type": "markdown",
   "metadata": {},
   "source": [
    "## Train Classifier"
   ]
  },
  {
   "cell_type": "code",
   "execution_count": 11,
   "metadata": {},
   "outputs": [
    {
     "name": "stderr",
     "output_type": "stream",
     "text": [
      "/usr/local/lib/python3.7/site-packages/sklearn/linear_model/stochastic_gradient.py:166: FutureWarning: max_iter and tol parameters have been added in PassiveAggressiveClassifier in 0.19. If both are left unset, they default to max_iter=5 and tol=None. If tol is not None, max_iter defaults to max_iter=1000. From 0.21, default max_iter will be 1000, and default tol will be 1e-3.\n",
      "  FutureWarning)\n"
     ]
    },
    {
     "data": {
      "text/plain": [
       "Pipeline(memory=None,\n",
       "     steps=[('vect', CountVectorizer(analyzer='word', binary=False, decode_error='strict',\n",
       "        dtype=<class 'numpy.int64'>, encoding='utf-8', input='content',\n",
       "        lowercase=True, max_df=1.0, max_features=None, min_df=1,\n",
       "        ngram_range=(1, 1), preprocessor=None, stop_words=None,\n",
       "        strip...       shuffle=True, tol=None, validation_fraction=0.1, verbose=0,\n",
       "              warm_start=False))])"
      ]
     },
     "execution_count": 11,
     "metadata": {},
     "output_type": "execute_result"
    }
   ],
   "source": [
    "pipeline.fit(x_train, y_train)"
   ]
  },
  {
   "cell_type": "code",
   "execution_count": 12,
   "metadata": {},
   "outputs": [],
   "source": [
    "vectorizer = pipeline.steps[0][1]\n",
    "classifier = pipeline.steps[2][1]\n",
    "\n",
    "feature_weights = sorted(zip(classifier.coef_[0], vectorizer.get_feature_names()))\n",
    "features = pd.DataFrame(feature_weights, columns=['weight', 'token'])"
   ]
  },
  {
   "cell_type": "markdown",
   "metadata": {},
   "source": [
    "### Most Unreliable Features"
   ]
  },
  {
   "cell_type": "code",
   "execution_count": 13,
   "metadata": {},
   "outputs": [
    {
     "data": {
      "text/html": [
       "<div>\n",
       "<style scoped>\n",
       "    .dataframe tbody tr th:only-of-type {\n",
       "        vertical-align: middle;\n",
       "    }\n",
       "\n",
       "    .dataframe tbody tr th {\n",
       "        vertical-align: top;\n",
       "    }\n",
       "\n",
       "    .dataframe thead th {\n",
       "        text-align: right;\n",
       "    }\n",
       "</style>\n",
       "<table border=\"1\" class=\"dataframe\">\n",
       "  <thead>\n",
       "    <tr style=\"text-align: right;\">\n",
       "      <th></th>\n",
       "      <th>weight</th>\n",
       "      <th>token</th>\n",
       "    </tr>\n",
       "  </thead>\n",
       "  <tbody>\n",
       "    <tr>\n",
       "      <th>0</th>\n",
       "      <td>-6.621640</td>\n",
       "      <td>breitbart</td>\n",
       "    </tr>\n",
       "    <tr>\n",
       "      <th>1</th>\n",
       "      <td>-6.243089</td>\n",
       "      <td>said</td>\n",
       "    </tr>\n",
       "    <tr>\n",
       "      <th>2</th>\n",
       "      <td>-6.200821</td>\n",
       "      <td>2017</td>\n",
       "    </tr>\n",
       "    <tr>\n",
       "      <th>3</th>\n",
       "      <td>-5.994728</td>\n",
       "      <td>twitter</td>\n",
       "    </tr>\n",
       "    <tr>\n",
       "      <th>4</th>\n",
       "      <td>-5.692049</td>\n",
       "      <td>mr</td>\n",
       "    </tr>\n",
       "  </tbody>\n",
       "</table>\n",
       "</div>"
      ],
      "text/plain": [
       "     weight      token\n",
       "0 -6.621640  breitbart\n",
       "1 -6.243089       said\n",
       "2 -6.200821       2017\n",
       "3 -5.994728    twitter\n",
       "4 -5.692049         mr"
      ]
     },
     "execution_count": 13,
     "metadata": {},
     "output_type": "execute_result"
    }
   ],
   "source": [
    "features.head()"
   ]
  },
  {
   "cell_type": "markdown",
   "metadata": {},
   "source": [
    "### Most Reliable Features"
   ]
  },
  {
   "cell_type": "code",
   "execution_count": 14,
   "metadata": {},
   "outputs": [
    {
     "data": {
      "text/html": [
       "<div>\n",
       "<style scoped>\n",
       "    .dataframe tbody tr th:only-of-type {\n",
       "        vertical-align: middle;\n",
       "    }\n",
       "\n",
       "    .dataframe tbody tr th {\n",
       "        vertical-align: top;\n",
       "    }\n",
       "\n",
       "    .dataframe thead th {\n",
       "        text-align: right;\n",
       "    }\n",
       "</style>\n",
       "<table border=\"1\" class=\"dataframe\">\n",
       "  <thead>\n",
       "    <tr style=\"text-align: right;\">\n",
       "      <th></th>\n",
       "      <th>weight</th>\n",
       "      <th>token</th>\n",
       "    </tr>\n",
       "  </thead>\n",
       "  <tbody>\n",
       "    <tr>\n",
       "      <th>112160</th>\n",
       "      <td>4.523658</td>\n",
       "      <td>november</td>\n",
       "    </tr>\n",
       "    <tr>\n",
       "      <th>112161</th>\n",
       "      <td>5.336946</td>\n",
       "      <td>hillary</td>\n",
       "    </tr>\n",
       "    <tr>\n",
       "      <th>112162</th>\n",
       "      <td>5.381276</td>\n",
       "      <td>october</td>\n",
       "    </tr>\n",
       "    <tr>\n",
       "      <th>112163</th>\n",
       "      <td>5.531814</td>\n",
       "      <td>2016</td>\n",
       "    </tr>\n",
       "    <tr>\n",
       "      <th>112164</th>\n",
       "      <td>6.712106</td>\n",
       "      <td>anti</td>\n",
       "    </tr>\n",
       "  </tbody>\n",
       "</table>\n",
       "</div>"
      ],
      "text/plain": [
       "          weight     token\n",
       "112160  4.523658  november\n",
       "112161  5.336946   hillary\n",
       "112162  5.381276   october\n",
       "112163  5.531814      2016\n",
       "112164  6.712106      anti"
      ]
     },
     "execution_count": 14,
     "metadata": {},
     "output_type": "execute_result"
    }
   ],
   "source": [
    "features.tail()"
   ]
  },
  {
   "cell_type": "markdown",
   "metadata": {},
   "source": [
    "## Evaluate Classifier Against Testing Data"
   ]
  },
  {
   "cell_type": "code",
   "execution_count": 15,
   "metadata": {},
   "outputs": [],
   "source": [
    "prediction = pipeline.predict(x_test)"
   ]
  },
  {
   "cell_type": "code",
   "execution_count": 16,
   "metadata": {},
   "outputs": [
    {
     "name": "stderr",
     "output_type": "stream",
     "text": [
      "/usr/local/lib/python3.7/site-packages/pandas/core/indexing.py:362: SettingWithCopyWarning: \n",
      "A value is trying to be set on a copy of a slice from a DataFrame.\n",
      "Try using .loc[row_indexer,col_indexer] = value instead\n",
      "\n",
      "See the caveats in the documentation: http://pandas.pydata.org/pandas-docs/stable/indexing.html#indexing-view-versus-copy\n",
      "  self.obj[key] = _infer_fill_value(value)\n",
      "/usr/local/lib/python3.7/site-packages/pandas/core/indexing.py:543: SettingWithCopyWarning: \n",
      "A value is trying to be set on a copy of a slice from a DataFrame.\n",
      "Try using .loc[row_indexer,col_indexer] = value instead\n",
      "\n",
      "See the caveats in the documentation: http://pandas.pydata.org/pandas-docs/stable/indexing.html#indexing-view-versus-copy\n",
      "  self.obj[item] = s\n"
     ]
    }
   ],
   "source": [
    "def outcome(row):\n",
    "    if row['label'] == row['prediction']:\n",
    "        return ''\n",
    "    \n",
    "    if row['prediction'] == 'unreliable':\n",
    "        return 'false positive'\n",
    "    \n",
    "    return 'false negative'\n",
    "\n",
    "test.loc[:,'prediction'] = prediction\n",
    "test.loc[:,'outcome'] = test.apply(lambda row: outcome(row), axis=1)\n",
    "\n",
    "accuracy = np.mean(prediction == y_test)\n",
    "\n",
    "false_positives = test[test['outcome'] == 'false positive']\n",
    "false_negatives = test[test['outcome'] == 'false negative']"
   ]
  },
  {
   "cell_type": "code",
   "execution_count": 17,
   "metadata": {},
   "outputs": [
    {
     "name": "stdout",
     "output_type": "stream",
     "text": [
      "classifier: passive aggressive\n",
      "accuracy: 0.9608443618068467\n"
     ]
    }
   ],
   "source": [
    "print('classifier:', classifier_name)\n",
    "print('accuracy:', accuracy)"
   ]
  },
  {
   "cell_type": "code",
   "execution_count": 18,
   "metadata": {},
   "outputs": [
    {
     "name": "stdout",
     "output_type": "stream",
     "text": [
      "358 misclassified documents of 9143 documents\n",
      "168 false positives\n",
      "190 false negatives\n"
     ]
    }
   ],
   "source": [
    "num_false_positives = len(false_positives.index)\n",
    "num_false_negatives = len(false_negatives.index)\n",
    "\n",
    "print('%s misclassified documents of %s documents' % (num_false_positives + num_false_negatives, len(test.index)))\n",
    "print('%s false positives' % num_false_positives)\n",
    "print('%s false negatives' % num_false_negatives)"
   ]
  },
  {
   "cell_type": "markdown",
   "metadata": {},
   "source": [
    "## Visualize Classifications"
   ]
  },
  {
   "cell_type": "code",
   "execution_count": 19,
   "metadata": {},
   "outputs": [
    {
     "data": {
      "text/html": [
       "<style  type=\"text/css\" >\n",
       "    #T_29f64c16_65e1_11e9_9b0a_acbc3284747brow0_col0 {\n",
       "            background-color:  white;\n",
       "             color:  black;\n",
       "        }    #T_29f64c16_65e1_11e9_9b0a_acbc3284747brow0_col1 {\n",
       "            background-color:  white;\n",
       "             color:  black;\n",
       "        }    #T_29f64c16_65e1_11e9_9b0a_acbc3284747brow0_col2 {\n",
       "            background-color:  white;\n",
       "             color:  black;\n",
       "        }    #T_29f64c16_65e1_11e9_9b0a_acbc3284747brow0_col3 {\n",
       "            background-color:  white;\n",
       "             color:  black;\n",
       "        }    #T_29f64c16_65e1_11e9_9b0a_acbc3284747brow0_col4 {\n",
       "            background-color:  white;\n",
       "             color:  black;\n",
       "        }    #T_29f64c16_65e1_11e9_9b0a_acbc3284747brow0_col5 {\n",
       "            background-color:  white;\n",
       "             color:  black;\n",
       "        }    #T_29f64c16_65e1_11e9_9b0a_acbc3284747brow1_col0 {\n",
       "            background-color:  white;\n",
       "             color:  black;\n",
       "        }    #T_29f64c16_65e1_11e9_9b0a_acbc3284747brow1_col1 {\n",
       "            background-color:  white;\n",
       "             color:  black;\n",
       "        }    #T_29f64c16_65e1_11e9_9b0a_acbc3284747brow1_col2 {\n",
       "            background-color:  white;\n",
       "             color:  black;\n",
       "        }    #T_29f64c16_65e1_11e9_9b0a_acbc3284747brow1_col3 {\n",
       "            background-color:  white;\n",
       "             color:  black;\n",
       "        }    #T_29f64c16_65e1_11e9_9b0a_acbc3284747brow1_col4 {\n",
       "            background-color:  white;\n",
       "             color:  black;\n",
       "        }    #T_29f64c16_65e1_11e9_9b0a_acbc3284747brow1_col5 {\n",
       "            background-color:  white;\n",
       "             color:  black;\n",
       "        }    #T_29f64c16_65e1_11e9_9b0a_acbc3284747brow2_col0 {\n",
       "            background-color:  white;\n",
       "             color:  black;\n",
       "        }    #T_29f64c16_65e1_11e9_9b0a_acbc3284747brow2_col1 {\n",
       "            background-color:  white;\n",
       "             color:  black;\n",
       "        }    #T_29f64c16_65e1_11e9_9b0a_acbc3284747brow2_col2 {\n",
       "            background-color:  white;\n",
       "             color:  black;\n",
       "        }    #T_29f64c16_65e1_11e9_9b0a_acbc3284747brow2_col3 {\n",
       "            background-color:  white;\n",
       "             color:  black;\n",
       "        }    #T_29f64c16_65e1_11e9_9b0a_acbc3284747brow2_col4 {\n",
       "            background-color:  white;\n",
       "             color:  black;\n",
       "        }    #T_29f64c16_65e1_11e9_9b0a_acbc3284747brow2_col5 {\n",
       "            background-color:  white;\n",
       "             color:  black;\n",
       "        }    #T_29f64c16_65e1_11e9_9b0a_acbc3284747brow3_col0 {\n",
       "            background-color:  white;\n",
       "             color:  black;\n",
       "        }    #T_29f64c16_65e1_11e9_9b0a_acbc3284747brow3_col1 {\n",
       "            background-color:  white;\n",
       "             color:  black;\n",
       "        }    #T_29f64c16_65e1_11e9_9b0a_acbc3284747brow3_col2 {\n",
       "            background-color:  white;\n",
       "             color:  black;\n",
       "        }    #T_29f64c16_65e1_11e9_9b0a_acbc3284747brow3_col3 {\n",
       "            background-color:  white;\n",
       "             color:  black;\n",
       "        }    #T_29f64c16_65e1_11e9_9b0a_acbc3284747brow3_col4 {\n",
       "            background-color:  white;\n",
       "             color:  black;\n",
       "        }    #T_29f64c16_65e1_11e9_9b0a_acbc3284747brow3_col5 {\n",
       "            background-color:  white;\n",
       "             color:  black;\n",
       "        }    #T_29f64c16_65e1_11e9_9b0a_acbc3284747brow4_col0 {\n",
       "            background-color:  white;\n",
       "             color:  black;\n",
       "        }    #T_29f64c16_65e1_11e9_9b0a_acbc3284747brow4_col1 {\n",
       "            background-color:  white;\n",
       "             color:  black;\n",
       "        }    #T_29f64c16_65e1_11e9_9b0a_acbc3284747brow4_col2 {\n",
       "            background-color:  white;\n",
       "             color:  black;\n",
       "        }    #T_29f64c16_65e1_11e9_9b0a_acbc3284747brow4_col3 {\n",
       "            background-color:  white;\n",
       "             color:  black;\n",
       "        }    #T_29f64c16_65e1_11e9_9b0a_acbc3284747brow4_col4 {\n",
       "            background-color:  white;\n",
       "             color:  black;\n",
       "        }    #T_29f64c16_65e1_11e9_9b0a_acbc3284747brow4_col5 {\n",
       "            background-color:  white;\n",
       "             color:  black;\n",
       "        }</style><table id=\"T_29f64c16_65e1_11e9_9b0a_acbc3284747b\" ><thead>    <tr>        <th class=\"blank level0\" ></th>        <th class=\"col_heading level0 col0\" >title</th>        <th class=\"col_heading level0 col1\" >author</th>        <th class=\"col_heading level0 col2\" >text</th>        <th class=\"col_heading level0 col3\" >label</th>        <th class=\"col_heading level0 col4\" >prediction</th>        <th class=\"col_heading level0 col5\" >outcome</th>    </tr></thead><tbody>\n",
       "                <tr>\n",
       "                        <th id=\"T_29f64c16_65e1_11e9_9b0a_acbc3284747blevel0_row0\" class=\"row_heading level0 row0\" >7711</th>\n",
       "                        <td id=\"T_29f64c16_65e1_11e9_9b0a_acbc3284747brow0_col0\" class=\"data row0 col0\" >Can Donald Trump Win? These Battleground Regions Will Decide - The New York Times</td>\n",
       "                        <td id=\"T_29f64c16_65e1_11e9_9b0a_acbc3284747brow0_col1\" class=\"data row0 col1\" >Jonathan Martin, Alexander Burns, Trip Gabriel and Fernanda Santos</td>\n",
       "                        <td id=\"T_29f64c16_65e1_11e9_9b0a_acbc3284747brow0_col2\" class=\"data row0 col2\" >With Donald J. Trump pulling even or ahead of Hillary Clinton in a series of recent national polls, </td>\n",
       "                        <td id=\"T_29f64c16_65e1_11e9_9b0a_acbc3284747brow0_col3\" class=\"data row0 col3\" >reliable</td>\n",
       "                        <td id=\"T_29f64c16_65e1_11e9_9b0a_acbc3284747brow0_col4\" class=\"data row0 col4\" >reliable</td>\n",
       "                        <td id=\"T_29f64c16_65e1_11e9_9b0a_acbc3284747brow0_col5\" class=\"data row0 col5\" ></td>\n",
       "            </tr>\n",
       "            <tr>\n",
       "                        <th id=\"T_29f64c16_65e1_11e9_9b0a_acbc3284747blevel0_row1\" class=\"row_heading level0 row1\" >13140</th>\n",
       "                        <td id=\"T_29f64c16_65e1_11e9_9b0a_acbc3284747brow1_col0\" class=\"data row1 col0\" >Donald Trump Used Over $250,000 From Charity for Business Disputes, Report Says - The New York Times</td>\n",
       "                        <td id=\"T_29f64c16_65e1_11e9_9b0a_acbc3284747brow1_col1\" class=\"data row1 col1\" >Steve Eder</td>\n",
       "                        <td id=\"T_29f64c16_65e1_11e9_9b0a_acbc3284747brow1_col2\" class=\"data row1 col2\" >Donald J. Trump, already under scrutiny for how he uses his foundation, directed more than a quarter</td>\n",
       "                        <td id=\"T_29f64c16_65e1_11e9_9b0a_acbc3284747brow1_col3\" class=\"data row1 col3\" >reliable</td>\n",
       "                        <td id=\"T_29f64c16_65e1_11e9_9b0a_acbc3284747brow1_col4\" class=\"data row1 col4\" >reliable</td>\n",
       "                        <td id=\"T_29f64c16_65e1_11e9_9b0a_acbc3284747brow1_col5\" class=\"data row1 col5\" ></td>\n",
       "            </tr>\n",
       "            <tr>\n",
       "                        <th id=\"T_29f64c16_65e1_11e9_9b0a_acbc3284747blevel0_row2\" class=\"row_heading level0 row2\" >13777</th>\n",
       "                        <td id=\"T_29f64c16_65e1_11e9_9b0a_acbc3284747brow2_col0\" class=\"data row2 col0\" >The Matriarch Behind Beyoncé and Solange - The New York Times</td>\n",
       "                        <td id=\"T_29f64c16_65e1_11e9_9b0a_acbc3284747brow2_col1\" class=\"data row2 col1\" >Alex Hawgood</td>\n",
       "                        <td id=\"T_29f64c16_65e1_11e9_9b0a_acbc3284747brow2_col2\" class=\"data row2 col2\" >For sisters in the public eye, Beyoncé and Solange Knowles have managed to resist the siren call to </td>\n",
       "                        <td id=\"T_29f64c16_65e1_11e9_9b0a_acbc3284747brow2_col3\" class=\"data row2 col3\" >reliable</td>\n",
       "                        <td id=\"T_29f64c16_65e1_11e9_9b0a_acbc3284747brow2_col4\" class=\"data row2 col4\" >reliable</td>\n",
       "                        <td id=\"T_29f64c16_65e1_11e9_9b0a_acbc3284747brow2_col5\" class=\"data row2 col5\" ></td>\n",
       "            </tr>\n",
       "            <tr>\n",
       "                        <th id=\"T_29f64c16_65e1_11e9_9b0a_acbc3284747blevel0_row3\" class=\"row_heading level0 row3\" >7396</th>\n",
       "                        <td id=\"T_29f64c16_65e1_11e9_9b0a_acbc3284747brow3_col0\" class=\"data row3 col0\" >This Time, Anna Deavere Smith Cuts Close to Home - The New York Times</td>\n",
       "                        <td id=\"T_29f64c16_65e1_11e9_9b0a_acbc3284747brow3_col1\" class=\"data row3 col1\" >Kate Taylor</td>\n",
       "                        <td id=\"T_29f64c16_65e1_11e9_9b0a_acbc3284747brow3_col2\" class=\"data row3 col2\" >Anna Deavere Smith is coming home. The protean actress and playwright has spent her career interview</td>\n",
       "                        <td id=\"T_29f64c16_65e1_11e9_9b0a_acbc3284747brow3_col3\" class=\"data row3 col3\" >reliable</td>\n",
       "                        <td id=\"T_29f64c16_65e1_11e9_9b0a_acbc3284747brow3_col4\" class=\"data row3 col4\" >reliable</td>\n",
       "                        <td id=\"T_29f64c16_65e1_11e9_9b0a_acbc3284747brow3_col5\" class=\"data row3 col5\" ></td>\n",
       "            </tr>\n",
       "            <tr>\n",
       "                        <th id=\"T_29f64c16_65e1_11e9_9b0a_acbc3284747blevel0_row4\" class=\"row_heading level0 row4\" >19836</th>\n",
       "                        <td id=\"T_29f64c16_65e1_11e9_9b0a_acbc3284747brow4_col0\" class=\"data row4 col0\" >Vanity Fair: National Politics Are all About Donald Trump’s Wall - Breitbart</td>\n",
       "                        <td id=\"T_29f64c16_65e1_11e9_9b0a_acbc3284747brow4_col1\" class=\"data row4 col1\" >Neil Munro</td>\n",
       "                        <td id=\"T_29f64c16_65e1_11e9_9b0a_acbc3284747brow4_col2\" class=\"data row4 col2\" >The fate of Donald Trump’s presidency depends on whether Sen. Chuck Schumer can block construction o</td>\n",
       "                        <td id=\"T_29f64c16_65e1_11e9_9b0a_acbc3284747brow4_col3\" class=\"data row4 col3\" >reliable</td>\n",
       "                        <td id=\"T_29f64c16_65e1_11e9_9b0a_acbc3284747brow4_col4\" class=\"data row4 col4\" >reliable</td>\n",
       "                        <td id=\"T_29f64c16_65e1_11e9_9b0a_acbc3284747brow4_col5\" class=\"data row4 col5\" ></td>\n",
       "            </tr>\n",
       "    </tbody></table>"
      ],
      "text/plain": [
       "<pandas.io.formats.style.Styler at 0x11e9484e0>"
      ]
     },
     "execution_count": 19,
     "metadata": {},
     "output_type": "execute_result"
    }
   ],
   "source": [
    "summary = test.apply(lambda x: x.str.slice(0, 100))\n",
    "\n",
    "def highlight_misclassfied(row):\n",
    "\n",
    "    bg_color = 'white'\n",
    "    text_color = 'black'\n",
    "    \n",
    "    if row['outcome'] != '':\n",
    "        bg_color = 'red'\n",
    "        text_color = 'white'\n",
    "\n",
    "    return ['background-color: %s; color: %s;' % (bg_color, text_color)]*len(row.values)\n",
    "\n",
    "summary.head().style.apply(highlight_misclassfied, axis=1)"
   ]
  },
  {
   "cell_type": "code",
   "execution_count": 20,
   "metadata": {},
   "outputs": [
    {
     "data": {
      "text/html": [
       "<div>\n",
       "<style scoped>\n",
       "    .dataframe tbody tr th:only-of-type {\n",
       "        vertical-align: middle;\n",
       "    }\n",
       "\n",
       "    .dataframe tbody tr th {\n",
       "        vertical-align: top;\n",
       "    }\n",
       "\n",
       "    .dataframe thead th {\n",
       "        text-align: right;\n",
       "    }\n",
       "</style>\n",
       "<table border=\"1\" class=\"dataframe\">\n",
       "  <thead>\n",
       "    <tr style=\"text-align: right;\">\n",
       "      <th></th>\n",
       "      <th>title</th>\n",
       "      <th>author</th>\n",
       "      <th>text</th>\n",
       "      <th>label</th>\n",
       "      <th>prediction</th>\n",
       "      <th>outcome</th>\n",
       "    </tr>\n",
       "  </thead>\n",
       "  <tbody>\n",
       "    <tr>\n",
       "      <th>12717</th>\n",
       "      <td>Scarborough: 9th Circuit Ruling Is ’Laughable,...</td>\n",
       "      <td>Jeff Poor</td>\n",
       "      <td>Friday on MSNBC’s “Morning Joe,” host Joe Scar...</td>\n",
       "      <td>reliable</td>\n",
       "      <td>unreliable</td>\n",
       "      <td>false positive</td>\n",
       "    </tr>\n",
       "    <tr>\n",
       "      <th>2532</th>\n",
       "      <td>Axios: Trump May Delay Infrastructure Plans to...</td>\n",
       "      <td>Breitbart News</td>\n",
       "      <td>The Trump Administration may put off any major...</td>\n",
       "      <td>reliable</td>\n",
       "      <td>unreliable</td>\n",
       "      <td>false positive</td>\n",
       "    </tr>\n",
       "    <tr>\n",
       "      <th>19110</th>\n",
       "      <td>Politico: Democrats in the Wilderness - Breitbart</td>\n",
       "      <td>Breitbart News</td>\n",
       "      <td>The 2016 presidential election was a day recko...</td>\n",
       "      <td>reliable</td>\n",
       "      <td>unreliable</td>\n",
       "      <td>false positive</td>\n",
       "    </tr>\n",
       "    <tr>\n",
       "      <th>10241</th>\n",
       "      <td>Border Numbers Up 31 Percent in One Month as ’...</td>\n",
       "      <td>Bob Price</td>\n",
       "      <td>The apprehension of illegal border crossers by...</td>\n",
       "      <td>reliable</td>\n",
       "      <td>unreliable</td>\n",
       "      <td>false positive</td>\n",
       "    </tr>\n",
       "    <tr>\n",
       "      <th>14983</th>\n",
       "      <td>Fake News! Newsweek Continues War on Steve Ban...</td>\n",
       "      <td>Thomas D. Williams, Ph.D.</td>\n",
       "      <td>Watch out readers of Tolstoy and Dostoyevsky, ...</td>\n",
       "      <td>reliable</td>\n",
       "      <td>unreliable</td>\n",
       "      <td>false positive</td>\n",
       "    </tr>\n",
       "  </tbody>\n",
       "</table>\n",
       "</div>"
      ],
      "text/plain": [
       "                                                   title  \\\n",
       "12717  Scarborough: 9th Circuit Ruling Is ’Laughable,...   \n",
       "2532   Axios: Trump May Delay Infrastructure Plans to...   \n",
       "19110  Politico: Democrats in the Wilderness - Breitbart   \n",
       "10241  Border Numbers Up 31 Percent in One Month as ’...   \n",
       "14983  Fake News! Newsweek Continues War on Steve Ban...   \n",
       "\n",
       "                          author  \\\n",
       "12717                  Jeff Poor   \n",
       "2532              Breitbart News   \n",
       "19110             Breitbart News   \n",
       "10241                  Bob Price   \n",
       "14983  Thomas D. Williams, Ph.D.   \n",
       "\n",
       "                                                    text     label  \\\n",
       "12717  Friday on MSNBC’s “Morning Joe,” host Joe Scar...  reliable   \n",
       "2532   The Trump Administration may put off any major...  reliable   \n",
       "19110  The 2016 presidential election was a day recko...  reliable   \n",
       "10241  The apprehension of illegal border crossers by...  reliable   \n",
       "14983  Watch out readers of Tolstoy and Dostoyevsky, ...  reliable   \n",
       "\n",
       "       prediction         outcome  \n",
       "12717  unreliable  false positive  \n",
       "2532   unreliable  false positive  \n",
       "19110  unreliable  false positive  \n",
       "10241  unreliable  false positive  \n",
       "14983  unreliable  false positive  "
      ]
     },
     "execution_count": 20,
     "metadata": {},
     "output_type": "execute_result"
    }
   ],
   "source": [
    "false_positives.head()"
   ]
  },
  {
   "cell_type": "code",
   "execution_count": 21,
   "metadata": {},
   "outputs": [
    {
     "data": {
      "text/html": [
       "<div>\n",
       "<style scoped>\n",
       "    .dataframe tbody tr th:only-of-type {\n",
       "        vertical-align: middle;\n",
       "    }\n",
       "\n",
       "    .dataframe tbody tr th {\n",
       "        vertical-align: top;\n",
       "    }\n",
       "\n",
       "    .dataframe thead th {\n",
       "        text-align: right;\n",
       "    }\n",
       "</style>\n",
       "<table border=\"1\" class=\"dataframe\">\n",
       "  <thead>\n",
       "    <tr style=\"text-align: right;\">\n",
       "      <th></th>\n",
       "      <th>title</th>\n",
       "      <th>author</th>\n",
       "      <th>text</th>\n",
       "      <th>label</th>\n",
       "      <th>prediction</th>\n",
       "      <th>outcome</th>\n",
       "    </tr>\n",
       "  </thead>\n",
       "  <tbody>\n",
       "    <tr>\n",
       "      <th>3841</th>\n",
       "      <td>The BRUTAL Truth About Islamic Law The Left Wa...</td>\n",
       "      <td>TFPP Writer</td>\n",
       "      <td>You are here: Home / US / The BRUTAL Truth Abo...</td>\n",
       "      <td>unreliable</td>\n",
       "      <td>reliable</td>\n",
       "      <td>false negative</td>\n",
       "    </tr>\n",
       "    <tr>\n",
       "      <th>19173</th>\n",
       "      <td>Judge warns of dangers of appointed judiciary</td>\n",
       "      <td>Bob Unruh</td>\n",
       "      <td>Judge warns of dangers of appointed judiciary ...</td>\n",
       "      <td>unreliable</td>\n",
       "      <td>reliable</td>\n",
       "      <td>false negative</td>\n",
       "    </tr>\n",
       "    <tr>\n",
       "      <th>15916</th>\n",
       "      <td>New Watergate: Someone Bugged The Democratic N...</td>\n",
       "      <td>Grant Stern</td>\n",
       "      <td>Comments \\nA new story about the cyber attack ...</td>\n",
       "      <td>unreliable</td>\n",
       "      <td>reliable</td>\n",
       "      <td>false negative</td>\n",
       "    </tr>\n",
       "    <tr>\n",
       "      <th>6285</th>\n",
       "      <td>Netanyahu Calls Trump ‘True Friend Of Israel’,...</td>\n",
       "      <td>Geoffrey Grider</td>\n",
       "      <td>Netanyahu Calls Trump ‘True Friend Of Israel...</td>\n",
       "      <td>unreliable</td>\n",
       "      <td>reliable</td>\n",
       "      <td>false negative</td>\n",
       "    </tr>\n",
       "    <tr>\n",
       "      <th>16781</th>\n",
       "      <td>BREAKING: Trump Makes His Choice for Attorney ...</td>\n",
       "      <td>Top Right News</td>\n",
       "      <td>By Top Right News on November 18, 2016 in Unca...</td>\n",
       "      <td>unreliable</td>\n",
       "      <td>reliable</td>\n",
       "      <td>false negative</td>\n",
       "    </tr>\n",
       "  </tbody>\n",
       "</table>\n",
       "</div>"
      ],
      "text/plain": [
       "                                                   title           author  \\\n",
       "3841   The BRUTAL Truth About Islamic Law The Left Wa...      TFPP Writer   \n",
       "19173      Judge warns of dangers of appointed judiciary        Bob Unruh   \n",
       "15916  New Watergate: Someone Bugged The Democratic N...      Grant Stern   \n",
       "6285   Netanyahu Calls Trump ‘True Friend Of Israel’,...  Geoffrey Grider   \n",
       "16781  BREAKING: Trump Makes His Choice for Attorney ...   Top Right News   \n",
       "\n",
       "                                                    text       label  \\\n",
       "3841   You are here: Home / US / The BRUTAL Truth Abo...  unreliable   \n",
       "19173  Judge warns of dangers of appointed judiciary ...  unreliable   \n",
       "15916  Comments \\nA new story about the cyber attack ...  unreliable   \n",
       "6285     Netanyahu Calls Trump ‘True Friend Of Israel...  unreliable   \n",
       "16781  By Top Right News on November 18, 2016 in Unca...  unreliable   \n",
       "\n",
       "      prediction         outcome  \n",
       "3841    reliable  false negative  \n",
       "19173   reliable  false negative  \n",
       "15916   reliable  false negative  \n",
       "6285    reliable  false negative  \n",
       "16781   reliable  false negative  "
      ]
     },
     "execution_count": 21,
     "metadata": {},
     "output_type": "execute_result"
    }
   ],
   "source": [
    "false_negatives.head()"
   ]
  },
  {
   "cell_type": "code",
   "execution_count": 22,
   "metadata": {},
   "outputs": [],
   "source": [
    "def plot_learning_curve(estimator, title, X, y, ylim=None, cv=None,\n",
    "                        n_jobs=None, train_sizes=np.linspace(.1, 1.0, 5)):\n",
    "    \"\"\"\n",
    "    Generate a simple plot of the test and training learning curve.\n",
    "\n",
    "    Parameters\n",
    "    ----------\n",
    "    estimator : object type that implements the \"fit\" and \"predict\" methods\n",
    "        An object of that type which is cloned for each validation.\n",
    "\n",
    "    title : string\n",
    "        Title for the chart.\n",
    "\n",
    "    X : array-like, shape (n_samples, n_features)\n",
    "        Training vector, where n_samples is the number of samples and\n",
    "        n_features is the number of features.\n",
    "\n",
    "    y : array-like, shape (n_samples) or (n_samples, n_features), optional\n",
    "        Target relative to X for classification or regression;\n",
    "        None for unsupervised learning.\n",
    "\n",
    "    ylim : tuple, shape (ymin, ymax), optional\n",
    "        Defines minimum and maximum yvalues plotted.\n",
    "\n",
    "    cv : int, cross-validation generator or an iterable, optional\n",
    "        Determines the cross-validation splitting strategy.\n",
    "        Possible inputs for cv are:\n",
    "          - None, to use the default 3-fold cross-validation,\n",
    "          - integer, to specify the number of folds.\n",
    "          - :term:`CV splitter`,\n",
    "          - An iterable yielding (train, test) splits as arrays of indices.\n",
    "\n",
    "        For integer/None inputs, if ``y`` is binary or multiclass,\n",
    "        :class:`StratifiedKFold` used. If the estimator is not a classifier\n",
    "        or if ``y`` is neither binary nor multiclass, :class:`KFold` is used.\n",
    "\n",
    "        Refer :ref:`User Guide <cross_validation>` for the various\n",
    "        cross-validators that can be used here.\n",
    "\n",
    "    n_jobs : int or None, optional (default=None)\n",
    "        Number of jobs to run in parallel.\n",
    "        ``None`` means 1 unless in a :obj:`joblib.parallel_backend` context.\n",
    "        ``-1`` means using all processors. See :term:`Glossary <n_jobs>`\n",
    "        for more details.\n",
    "\n",
    "    train_sizes : array-like, shape (n_ticks,), dtype float or int\n",
    "        Relative or absolute numbers of training examples that will be used to\n",
    "        generate the learning curve. If the dtype is float, it is regarded as a\n",
    "        fraction of the maximum size of the training set (that is determined\n",
    "        by the selected validation method), i.e. it has to be within (0, 1].\n",
    "        Otherwise it is interpreted as absolute sizes of the training sets.\n",
    "        Note that for classification the number of samples usually have to\n",
    "        be big enough to contain at least one sample from each class.\n",
    "        (default: np.linspace(0.1, 1.0, 5))\n",
    "    \"\"\"\n",
    "    plt.figure()\n",
    "    plt.title(title)\n",
    "    if ylim is not None:\n",
    "        plt.ylim(*ylim)\n",
    "    plt.xlabel(\"Training examples\")\n",
    "    plt.ylabel(\"Score\")\n",
    "    train_sizes, train_scores, test_scores = learning_curve(\n",
    "        estimator, X, y, cv=cv, n_jobs=n_jobs, train_sizes=train_sizes)\n",
    "    train_scores_mean = np.mean(train_scores, axis=1)\n",
    "    train_scores_std = np.std(train_scores, axis=1)\n",
    "    test_scores_mean = np.mean(test_scores, axis=1)\n",
    "    test_scores_std = np.std(test_scores, axis=1)\n",
    "    plt.grid()\n",
    "\n",
    "    plt.fill_between(train_sizes, train_scores_mean - train_scores_std,\n",
    "                     train_scores_mean + train_scores_std, alpha=0.1,\n",
    "                     color=\"r\")\n",
    "    plt.fill_between(train_sizes, test_scores_mean - test_scores_std,\n",
    "                     test_scores_mean + test_scores_std, alpha=0.1, color=\"g\")\n",
    "    plt.plot(train_sizes, train_scores_mean, 'o-', color=\"r\",\n",
    "             label=\"Training score\")\n",
    "    plt.plot(train_sizes, test_scores_mean, 'o-', color=\"g\",\n",
    "             label=\"Cross-validation score\")\n",
    "\n",
    "    plt.legend(loc=\"best\")\n",
    "    return plt"
   ]
  },
  {
   "cell_type": "code",
   "execution_count": 27,
   "metadata": {},
   "outputs": [
    {
     "data": {
      "text/plain": [
       "<module 'matplotlib.pyplot' from '/usr/local/lib/python3.7/site-packages/matplotlib/pyplot.py'>"
      ]
     },
     "execution_count": 27,
     "metadata": {},
     "output_type": "execute_result"
    },
    {
     "data": {
      "image/png": "[encoded data removed]",
      "text/plain": [
       "<Figure size 432x288 with 1 Axes>"
      ]
     },
     "metadata": {
      "needs_background": "light"
     },
     "output_type": "display_data"
    }
   ],
   "source": [
    "cv = ShuffleSplit(n_splits=10, test_size=0.2, random_state=0)\n",
    "plot_learning_curve(pipeline, \"learning curve\", df['text'], df['label'], cv=cv)"
   ]
  },
  {
   "cell_type": "code",
   "execution_count": null,
   "metadata": {},
   "outputs": [],
   "source": []
  }
 ],
 "metadata": {
  "kernelspec": {
   "display_name": "Python 3",
   "language": "python",
   "name": "python3"
  },
  "language_info": {
   "codemirror_mode": {
    "name": "ipython",
    "version": 3
   },
   "file_extension": ".py",
   "mimetype": "text/x-python",
   "name": "python",
   "nbconvert_exporter": "python",
   "pygments_lexer": "ipython3",
   "version": "3.7.3"
  }
 },
 "nbformat": 4,
 "nbformat_minor": 2
}
